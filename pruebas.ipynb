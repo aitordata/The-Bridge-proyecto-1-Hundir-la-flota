{
 "cells": [
  {
   "cell_type": "code",
   "execution_count": 8,
   "metadata": {},
   "outputs": [
    {
     "name": "stdout",
     "output_type": "stream",
     "text": [
      "True\n"
     ]
    }
   ],
   "source": [
    "import numpy as np\n",
    "array=np.array([[\"\",\"\",\"\",\"\",\"\",\"\",\"\",\"\",\"\",\"\"],\n",
    "                [\"\",\"\",\"\",\"\",\"\",\"\",\"\",\"\",\"\",\"\"],\n",
    "                [\"\",\"\",\"\",\"\",\"\",\"\",\"\",\"\",\"\",\"\"],\n",
    "                [\"\",\"\",\"\",\"\",\"\",\"\",\"\",\"\",\"\",\"\"],\n",
    "                [\"\",\"\",\"\",\"\",\"\",\"\",\"\",\"\",\"\",\"\"],\n",
    "                [\"\",\"\",\"\",\"\",\"\",\"\",\"\",\"\",\"\",\"\"],\n",
    "                [\"\",\"\",\"\",\"\",\"\",\"\",\"\",\"\",\"\",\"\"],\n",
    "                [\"\",\"\",\"\",\"\",\"\",\"\",\"\",\"\",\"\",\"\"],\n",
    "                [\"\",\"\",\"\",\"\",\"\",\"\",\"\",\"\",\"\",\"\"],\n",
    "                [\"\",\"\",\"\",\"\",\"\",\"\",\"\",\"\",\"\",\"O\"],]  \n",
    ")\n",
    "\n",
    "\n",
    "\n",
    "def colocar_barcos_manual(tablero_jug):\n",
    "     \n",
    "\n"
   ]
  }
 ],
 "metadata": {
  "kernelspec": {
   "display_name": "Python 3",
   "language": "python",
   "name": "python3"
  },
  "language_info": {
   "codemirror_mode": {
    "name": "ipython",
    "version": 3
   },
   "file_extension": ".py",
   "mimetype": "text/x-python",
   "name": "python",
   "nbconvert_exporter": "python",
   "pygments_lexer": "ipython3",
   "version": "3.11.4 (v3.11.4:d2340ef257, Jun  6 2023, 19:15:51) [Clang 13.0.0 (clang-1300.0.29.30)]"
  },
  "orig_nbformat": 4,
  "vscode": {
   "interpreter": {
    "hash": "aee8b7b246df8f9039afb4144a1f6fd8d2ca17a180786b69acc140d282b71a49"
   }
  }
 },
 "nbformat": 4,
 "nbformat_minor": 2
}
