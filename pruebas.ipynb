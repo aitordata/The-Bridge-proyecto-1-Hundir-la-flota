{
 "cells": [
  {
   "cell_type": "code",
   "execution_count": 8,
   "metadata": {},
   "outputs": [
    {
     "name": "stdout",
     "output_type": "stream",
     "text": [
      "True\n"
     ]
    }
   ],
   "source": [
    "import numpy as np\n",
    "array=np.array([[\"\",\"\",\"\",\"\",\"\",\"\",\"\",\"\",\"\",\"\"],\n",
    "                [\"\",\"\",\"\",\"\",\"\",\"\",\"\",\"\",\"\",\"\"],\n",
    "                [\"\",\"\",\"\",\"\",\"\",\"\",\"\",\"\",\"\",\"\"],\n",
    "                [\"\",\"\",\"\",\"\",\"\",\"\",\"\",\"\",\"\",\"\"],\n",
    "                [\"\",\"\",\"\",\"\",\"\",\"\",\"\",\"\",\"\",\"\"],\n",
    "                [\"\",\"\",\"\",\"\",\"\",\"\",\"\",\"\",\"\",\"\"],\n",
    "                [\"\",\"\",\"\",\"\",\"\",\"\",\"\",\"\",\"\",\"\"],\n",
    "                [\"\",\"\",\"\",\"\",\"\",\"\",\"\",\"\",\"\",\"\"],\n",
    "                [\"\",\"\",\"\",\"\",\"\",\"\",\"\",\"\",\"\",\"\"],\n",
    "                [\"\",\"\",\"\",\"\",\"\",\"\",\"\",\"\",\"\",\"O\"],]  \n",
    ")\n",
    "\n",
    "x=9\n",
    "y=9\n",
    "\n",
    "def comprobar_barco_hundido(my_array,x,y): #Devuelve True cuando el barco no tiene esloras vivas alrrededor -es decir, se ha hundido- y false en caso contrario.\n",
    "    if len(my_array)-1==x and len(my_array)-1==y:\n",
    "         condicion=(my_array[x][y-1]!=\"O\") and (my_array[x-1][y-1]!=\"O\") and (my_array[x-1][y]!=\"O\")\n",
    "         return condicion\n",
    "    elif len(my_array)-1>x and len(my_array)-1==y and x!=0:\n",
    "         condicion=(my_array[x-1][y]!=\"O\")and (my_array[x-1][y-1]!=\"O\")and(my_array[x][y-1]!=\"O\")and(my_array[x+1][y]!=\"O\")\n",
    "         return condicion \n",
    "    elif 0==x and len(my_array)-1==y:\n",
    "         condicion= (my_array[x][y-1]!=\"O\")and (my_array[x+1][y-1]!=\"O\")and (my_array[x+1][y]!=\"O\")\n",
    "         return condicion\n",
    "    elif len(my_array)-1==x and y< len(my_array)-1:\n",
    "          condicion= (my_array[x][y+1]!=\"O\")and (my_array[x-1][y]!=\"O\")and (my_array[x-1][y+1]!=\"O\")and (my_array[x][y-1]!=\"O\")and (my_array[x-1][y-1]!=\"O\")\n",
    "          return condicion\n",
    "    else:\n",
    "      condicion= (my_array[x-1][y]!=\"O\") and (my_array[x-1][y+1]!=\"O\") and (my_array[x][y+1]!=\"O\") and (my_array[x+1][y-1]!=\"O\") and (my_array[x+1][y+1]!=\"O\") and (my_array[x+1][y]!=\"O\") and (my_array[x][y-1]!=\"O\") and (my_array[x-1][y-1]!=\"O\")\n",
    "      return condicion\n",
    "\n",
    "print(comprobar_barco_hundido(array,x,y))\n"
   ]
  }
 ],
 "metadata": {
  "kernelspec": {
   "display_name": "Python 3",
   "language": "python",
   "name": "python3"
  },
  "language_info": {
   "codemirror_mode": {
    "name": "ipython",
    "version": 3
   },
   "file_extension": ".py",
   "mimetype": "text/x-python",
   "name": "python",
   "nbconvert_exporter": "python",
   "pygments_lexer": "ipython3",
   "version": "3.11.4"
  },
  "orig_nbformat": 4,
  "vscode": {
   "interpreter": {
    "hash": "aee8b7b246df8f9039afb4144a1f6fd8d2ca17a180786b69acc140d282b71a49"
   }
  }
 },
 "nbformat": 4,
 "nbformat_minor": 2
}
