{
 "cells": [
  {
   "cell_type": "code",
   "execution_count": 3,
   "metadata": {},
   "outputs": [
    {
     "data": {
      "text/plain": [
       "True"
      ]
     },
     "execution_count": 3,
     "metadata": {},
     "output_type": "execute_result"
    }
   ],
   "source": [
    "import numpy as np\n",
    "my_array=np.array([[\"O\",\"X\",\"O\",\"O\"],\n",
    "                   [\" \", \" \", \" \",\" \"],\n",
    "                   [\" \", \" \", \" \",\" \"],\n",
    "                   [\" \", \" \", \" \",\" \"]])\n",
    "\n",
    "\n",
    "\n",
    "x=0\n",
    "y=0\n",
    "\n",
    "def comprobar_barco_hundido(my_array,x,y):#Devuelve True cuando el barco no tiene esloras vivas alrrededor -es decir, se ha hundido- y false en caso contrario.\n",
    "    if x==0: \n",
    "        if y==0:\n",
    "            condicion=(my_array[x][y+1]!=\"O\")and(my_array[x+1][y]!=\"O\")and (my_array[x+1][y+1]!=\"O\")\n",
    "            if condicion: \n",
    "                \n",
    "            return condicion \n",
    "        elif y==len(my_array)-1:\n",
    "            condicion=(my_array[x][y-1]!=\"O\")and (my_array[x+1][y-1]!=\"O\") and (my_array[x+1][y]!=\"O\")\n",
    "            return condicion\n",
    "        else:\n",
    "            condicion=(my_array[x][y-1]!=\"O\")and (my_array[x+1][y-1]!=\"O\")and(my_array[x+1][y]!=\"O\") and (my_array[x+1][y+1]!=\"O\") and (my_array[x][y+1]!=\"O\")\n",
    "            return condicion \n",
    "    elif x>0 and x<(len(my_array)-1):\n",
    "        if y==0:\n",
    "            condicion=(my_array[x-1][y]!=\"O\")and(my_array[x-1][y+1]!=\"O\")and(my_array[x][y+1]!=\"O\")and(my_array[x+1][y+1]!=\"O\")and(my_array[x+1][y]!=\"O\")\n",
    "            return condicion\n",
    "        elif y==len(my_array)-1:\n",
    "            condicion=(my_array[x-1][y]!=\"O\")and(my_array[x-1][y-1]!=\"O\")and(my_array[x][y-1]!=\"O\")and(my_array[x+1][y-1]!=\"O\")and(my_array[x+1][y]!=\"O\")\n",
    "            return condicion\n",
    "        else:\n",
    "            condicion=(my_array[x-1][y]!=\"O\") and (my_array[x-1][y+1]!=\"O\") and (my_array[x][y+1]!=\"O\") and (my_array[x+1][y-1]!=\"O\") and (my_array[x+1][y+1]!=\"O\") and (my_array[x+1][y]!=\"O\") and (my_array[x][y-1]!=\"O\") and (my_array[x-1][y-1]!=\"O\")\n",
    "            return condicion\n",
    "    elif x==len(my_array)-1:\n",
    "        if y==0:\n",
    "            condicion=(my_array[x-1][y]!=\"O\")and(my_array[x-1][y+1]!=\"O\")and(my_array[x][y+1]!=\"O\")\n",
    "            return condicion\n",
    "        elif y==len(my_array)-1:\n",
    "            condicion=(my_array[x-1][y]!=\"O\")and(my_array[x-1][y-1]!=\"O\")and(my_array[x][y-1]!=\"O\")\n",
    "            return condicion\n",
    "        else:\n",
    "            condicion=(my_array[x][y-1]!=\"O\")and (my_array[x-1][y-1]!=\"O\")and(my_array[x-1][y]!=\"O\")and(my_array[x-1][y+1]!=\"O\")and (my_array[x][y+1]!=\"O\")\n",
    "            return condicion\n",
    "\n",
    "\n",
    "\n",
    "\n",
    "comprobar_barco_hundido(my_array,x,y)\n",
    "\n"
   ]
  }
 ],
 "metadata": {
  "kernelspec": {
   "display_name": "Python 3",
   "language": "python",
   "name": "python3"
  },
  "language_info": {
   "codemirror_mode": {
    "name": "ipython",
    "version": 3
   },
   "file_extension": ".py",
   "mimetype": "text/x-python",
   "name": "python",
   "nbconvert_exporter": "python",
   "pygments_lexer": "ipython3",
   "version": "3.11.4"
  },
  "orig_nbformat": 4,
  "vscode": {
   "interpreter": {
    "hash": "aee8b7b246df8f9039afb4144a1f6fd8d2ca17a180786b69acc140d282b71a49"
   }
  }
 },
 "nbformat": 4,
 "nbformat_minor": 2
}
